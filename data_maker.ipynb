{
 "cells": [
  {
   "cell_type": "code",
   "execution_count": 112,
   "metadata": {},
   "outputs": [],
   "source": [
    "import csv\n",
    "import spacy\n",
    "\n",
    "\n",
    "nlp = spacy.load('es_core_news_lg')"
   ]
  },
  {
   "cell_type": "code",
   "execution_count": 113,
   "metadata": {},
   "outputs": [],
   "source": [
    "import itertools\n",
    "def check_len(line):\n",
    "    if len(line.split()) < 3:\n",
    "        line = line.split()\n",
    "        line.append('Not.Tagged')\n",
    "        line = ' '.join(line)\n",
    "        return line\n",
    "    else:\n",
    "        return line\n",
    "\n",
    "def clean_text(line):\n",
    "    line = line.lower()\n",
    "    line = line.replace('&eacute;', 'é')\n",
    "    line = line.replace('&aacute;', 'á')\n",
    "    line = line.replace('&iacute;', 'í')\n",
    "    line = line.replace('&oacute;', 'ó')\n",
    "    line = line.replace('&uacute;', 'ú')\n",
    "    line = line.replace('&ntilde;', 'ñ')\n",
    "    line = line.replace('&acirc;', 'â')\n",
    "    line = line.replace('&iexcl;', ' ¡ ')\n",
    "    line = line.replace('&iquest;', ' ¿ ')\n",
    "    line = line.replace('&quot', '\\\"')\n",
    "    return line.split()\n",
    "\n",
    "count = 0\n",
    "with open('C:\\\\Users\\\\Jerem\\\\Downloads\\\\cf-output.txt', encoding= 'utf8') as corpus:\n",
    "    all_sents = []\n",
    "    all_tags = []\n",
    "    current_sentence = []\n",
    "    current_tags = []\n",
    "    for line in corpus:\n",
    "        line = check_len(line)\n",
    "        clean = clean_text(line)\n",
    "        word = clean[0]\n",
    "        pos = clean[2]\n",
    "        if pos.lower() != 'punct.final':\n",
    "            current_sentence.append(word)\n",
    "            current_tags.append(pos)\n",
    "        elif pos.lower() == 'punct.final' and word in ['.', '!', '?', ]:\n",
    "            all_sents.append(current_sentence)\n",
    "            all_tags.append(current_tags)\n",
    "            current_sentence =[]\n",
    "            current_tags = []\n",
    "\n",
    "\n",
    "\n",
    "punct = ['!', ':', '.', ',', ';', '=', '-', ')', '(', '?', '+', '¡', '¿', '\\\"', '\\\":', '\\\";']\n",
    "\n",
    "\n",
    "with open('C:\\\\Users\\\\Jerem\\\\Desktop\\\\counterfactuals.csv', encoding='utf8', mode='a', newline='') as out:\n",
    "    writer = csv.writer(out)\n",
    "    for sent, tags in zip(all_sents, all_tags):\n",
    "        if len(sent) == len(tags):\n",
    "            filtered_sent = []\n",
    "            filtered_tags = []\n",
    "            for ind, word in enumerate(sent):\n",
    "                if word not in punct:\n",
    "                    filtered_sent.append(word)\n",
    "                    filtered_tags.append(tags[ind])\n",
    "        temp_sent = ' '.join(filtered_sent)\n",
    "        temp_tags = ' '.join(filtered_tags)\n",
    "        cf = []\n",
    "        for tag in filtered_tags:\n",
    "            if 'cf' in tag:\n",
    "                cf.append(tag)\n",
    "        doc = nlp(temp_sent)\n",
    "        verb_moods = [token.morph.get(\"Mood\") for token in doc if token.pos_ == 'VERB']\n",
    "        verb_moods = [mood for subls in verb_moods for mood in subls if isinstance(subls, list)]\n",
    "        mood_counts = {}\n",
    "        for mood in set(verb_moods):\n",
    "            mood_counts[mood] = verb_moods.count(mood)\n",
    "        if len(cf) > 0:\n",
    "            writer.writerow([temp_sent, mood_counts, temp_tags, str(list(set(cf))), 1])\n",
    "        else:\n",
    "            writer.writerow([temp_sent, mood_counts, temp_tags, 'None', 0])\n",
    "\n"
   ]
  },
  {
   "cell_type": "code",
   "execution_count": null,
   "metadata": {},
   "outputs": [],
   "source": []
  }
 ],
 "metadata": {
  "kernelspec": {
   "display_name": "Python 3",
   "language": "python",
   "name": "python3"
  },
  "language_info": {
   "codemirror_mode": {
    "name": "ipython",
    "version": 3
   },
   "file_extension": ".py",
   "mimetype": "text/x-python",
   "name": "python",
   "nbconvert_exporter": "python",
   "pygments_lexer": "ipython3",
   "version": "3.11.1"
  },
  "orig_nbformat": 4,
  "vscode": {
   "interpreter": {
    "hash": "c4c35ab18d64beb73eb5bd0a413aff9d7b8895fdc9746fe77e18c17c088a689f"
   }
  }
 },
 "nbformat": 4,
 "nbformat_minor": 2
}
